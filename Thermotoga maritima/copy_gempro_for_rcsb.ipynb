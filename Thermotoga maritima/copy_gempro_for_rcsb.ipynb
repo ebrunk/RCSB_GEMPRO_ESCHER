{
 "cells": [
  {
   "cell_type": "code",
   "execution_count": 1,
   "metadata": {
    "collapsed": false
   },
   "outputs": [
    {
     "name": "stderr",
     "output_type": "stream",
     "text": [
      "@> ProDy is configured: verbosity='none'\n",
      "INFO:.prody:ProDy is configured: verbosity='none'\n"
     ]
    }
   ],
   "source": [
    "%run '/media/ebrunk/LACIE/scripts/ipython_notebook/ssbio.ipynb'"
   ]
  },
  {
   "cell_type": "raw",
   "metadata": {},
   "source": [
    "DF_TM= pd.read_excel('../../GEMPro/GEMPro_recon/Tmaritima/data_frames/Tmaritima_FINAL.xlsx',sheetname='01-GEM-PRO')"
   ]
  },
  {
   "cell_type": "code",
   "execution_count": 13,
   "metadata": {
    "collapsed": false
   },
   "outputs": [
    {
     "data": {
      "text/html": [
       "<div style=\"max-height:1000px;max-width:1500px;overflow:auto;\">\n",
       "<table border=\"1\" class=\"dataframe\">\n",
       "  <thead>\n",
       "    <tr style=\"text-align: right;\">\n",
       "      <th></th>\n",
       "      <th>m_reaction</th>\n",
       "      <th>m_subsystem</th>\n",
       "      <th>m_formula</th>\n",
       "      <th>m_metabolites</th>\n",
       "      <th>m_gene_reaction_rule</th>\n",
       "      <th>m_gene</th>\n",
       "      <th>u_uniprot_acc</th>\n",
       "      <th>u_reviewed</th>\n",
       "      <th>u_gene_name</th>\n",
       "      <th>u_ec_number</th>\n",
       "      <th>u_description</th>\n",
       "      <th>u_seq</th>\n",
       "      <th>u_seq_len</th>\n",
       "      <th>u_pfam</th>\n",
       "      <th>u_kegg_id</th>\n",
       "      <th>u_refseq</th>\n",
       "      <th>u_go</th>\n",
       "      <th>u_pdb_count</th>\n",
       "      <th>u_pdb</th>\n",
       "      <th>p_experiment</th>\n",
       "      <th>p_resolution</th>\n",
       "      <th>p_resolution_scaled</th>\n",
       "      <th>p_chemicals</th>\n",
       "      <th>p_chains</th>\n",
       "      <th>p_chain_uniprot_map</th>\n",
       "      <th>p_ec_numbers</th>\n",
       "      <th>p_deposition_date</th>\n",
       "      <th>p_doi</th>\n",
       "      <th>i_entry_name</th>\n",
       "      <th>i_tm_score</th>\n",
       "      <th>i_cscore</th>\n",
       "      <th>i_model_type</th>\n",
       "      <th>ssb_p_no_deletions_in_pdb</th>\n",
       "      <th>ssb_p_chains_from_org</th>\n",
       "      <th>ssb_p_aln_coverage</th>\n",
       "      <th>ssb_p_percent_seq_ident</th>\n",
       "      <th>ssb_si_score</th>\n",
       "      <th>ssb_rez_score</th>\n",
       "      <th>ssb_raw_score</th>\n",
       "      <th>ssb_above_cutoffs</th>\n",
       "      <th>ssb_rank</th>\n",
       "      <th>ssb_best_file</th>\n",
       "      <th>ssb_cys_bridge</th>\n",
       "      <th>ssb_sasa</th>\n",
       "      <th>ssb_mean_rel_exposed</th>\n",
       "      <th>ssb_size</th>\n",
       "      <th>ssb_ovality</th>\n",
       "      <th>ssb_avg_res_depth</th>\n",
       "      <th>ssb_ca_depth</th>\n",
       "      <th>ssb_per_NP</th>\n",
       "      <th>ssb_per_P</th>\n",
       "      <th>ssb_per_pos</th>\n",
       "      <th>ssb_per_neg</th>\n",
       "      <th>ssb_per_irr</th>\n",
       "      <th>ssb_per_alpha</th>\n",
       "      <th>ssb_per_beta_bridge</th>\n",
       "      <th>ssb_per_ext_beta</th>\n",
       "      <th>ssb_per_310_helix</th>\n",
       "      <th>ssb_per_5_helix</th>\n",
       "      <th>ssb_per_hbond_turn</th>\n",
       "      <th>ssb_per_bent</th>\n",
       "      <th>ssb_per_S_NP</th>\n",
       "      <th>ssb_per_S_P</th>\n",
       "      <th>ssb_per_S_pos</th>\n",
       "      <th>ssb_per_S_neg</th>\n",
       "      <th>ssb_per_B_NP</th>\n",
       "      <th>ssb_per_B_P</th>\n",
       "      <th>ssb_per_B_pos</th>\n",
       "      <th>ssb_per_B_neg</th>\n",
       "      <th>ssb_per_S</th>\n",
       "      <th>ssb_per_B</th>\n",
       "      <th>f_clan</th>\n",
       "      <th>f_pfam_name</th>\n",
       "      <th>ssb_pfam</th>\n",
       "      <th>ssb_pfam_source</th>\n",
       "    </tr>\n",
       "  </thead>\n",
       "  <tbody>\n",
       "    <tr>\n",
       "      <th>0</th>\n",
       "      <td> 3SALATAi</td>\n",
       "      <td> Cysteine Metabolism</td>\n",
       "      <td> akg_c + 3sala_c + h_c --&gt; 3snpyr_c + glu_L_c</td>\n",
       "      <td> ['3sala_c', 'h_c', 'glu_L_c', 'akg_c', '3snpyr...</td>\n",
       "      <td> (TM_1698 or TM_1255)</td>\n",
       "      <td> TM_1255</td>\n",
       "      <td> Q9X0Y2</td>\n",
       "      <td> True</td>\n",
       "      <td> aspC</td>\n",
       "      <td> ['2.6.1.1']</td>\n",
       "      <td> ['Transaminase A', 'AspAT', 'Aspartate aminotr...</td>\n",
       "      <td> MVSRRISEIPISKTMELDAKAKALIKKGEDVINLTAGEPDFPTPEP...</td>\n",
       "      <td> 377</td>\n",
       "      <td> ['PF00155']</td>\n",
       "      <td> ['tma:TM1255', 'tmi:THEMA_08060']</td>\n",
       "      <td> ['NP_229060.1', 'NC_000853.1', 'YP_007977609.1...</td>\n",
       "      <td> ['GO:0005737; C:cytoplasm; IEA:UniProtKB-SubCe...</td>\n",
       "      <td> 1</td>\n",
       "      <td> 1O4S</td>\n",
       "      <td> X-RAY DIFFRACTION</td>\n",
       "      <td> 1.9</td>\n",
       "      <td> 0.75</td>\n",
       "      <td> ['SO4', 'PLP']</td>\n",
       "      <td> ['A', 'B']</td>\n",
       "      <td> {'A': ['Q9X0Y2'], 'B': ['Q9X0Y2']}</td>\n",
       "      <td> [('A', ['2.6.1.1']), ('B', ['2.6.1.1'])]</td>\n",
       "      <td> 26-JUN-03</td>\n",
       "      <td> 10.1002/PROT.10646</td>\n",
       "      <td> NaN</td>\n",
       "      <td>NaN</td>\n",
       "      <td>NaN</td>\n",
       "      <td> NaN</td>\n",
       "      <td> True</td>\n",
       "      <td> True</td>\n",
       "      <td> 376</td>\n",
       "      <td> 0.997347</td>\n",
       "      <td> 1.191711</td>\n",
       "      <td> 1.909091</td>\n",
       "      <td> 3.100802</td>\n",
       "      <td> True</td>\n",
       "      <td> 1</td>\n",
       "      <td> 1o4s.pdb</td>\n",
       "      <td> 0</td>\n",
       "      <td> 29640</td>\n",
       "      <td> 0.224057</td>\n",
       "      <td> 759</td>\n",
       "      <td> 356.218947</td>\n",
       "      <td> 4.467993</td>\n",
       "      <td> 4.604561</td>\n",
       "      <td> 0.503294</td>\n",
       "      <td> 0.216074</td>\n",
       "      <td> 0.146245</td>\n",
       "      <td> 0.134387</td>\n",
       "      <td> 0.225296</td>\n",
       "      <td> 0.417655</td>\n",
       "      <td> 0.006588</td>\n",
       "      <td> 0.140975</td>\n",
       "      <td> 0.034256</td>\n",
       "      <td> 0</td>\n",
       "      <td> 0.109354</td>\n",
       "      <td> 0.065876</td>\n",
       "      <td> 0.247694</td>\n",
       "      <td> 0.14888</td>\n",
       "      <td> 0.14361</td>\n",
       "      <td> 0.129117</td>\n",
       "      <td> 0.255599</td>\n",
       "      <td> 0.067194</td>\n",
       "      <td> 0.002635</td>\n",
       "      <td> 0.00527</td>\n",
       "      <td> 0.669302</td>\n",
       "      <td> 0.330698</td>\n",
       "      <td> PLP_aminotran</td>\n",
       "      <td> Aminotransferase class I and II</td>\n",
       "      <td> PF00155</td>\n",
       "      <td> from official</td>\n",
       "    </tr>\n",
       "  </tbody>\n",
       "</table>\n",
       "<p>1 rows × 75 columns</p>\n",
       "</div>"
      ],
      "text/plain": [
       "  m_reaction          m_subsystem                                     m_formula                                      m_metabolites  m_gene_reaction_rule   m_gene u_uniprot_acc u_reviewed u_gene_name  u_ec_number                                      u_description                                              u_seq  u_seq_len       u_pfam                          u_kegg_id                                           u_refseq                                               u_go  u_pdb_count u_pdb       p_experiment  p_resolution  p_resolution_scaled     p_chemicals    p_chains                 p_chain_uniprot_map                              p_ec_numbers p_deposition_date               p_doi i_entry_name  i_tm_score  i_cscore i_model_type ssb_p_no_deletions_in_pdb ssb_p_chains_from_org  ssb_p_aln_coverage  ssb_p_percent_seq_ident  ssb_si_score  ssb_rez_score  ssb_raw_score ssb_above_cutoffs  ssb_rank ssb_best_file  ssb_cys_bridge  ssb_sasa  ssb_mean_rel_exposed  ssb_size  ssb_ovality  \\\n",
       "0   3SALATAi  Cysteine Metabolism  akg_c + 3sala_c + h_c --> 3snpyr_c + glu_L_c  ['3sala_c', 'h_c', 'glu_L_c', 'akg_c', '3snpyr...  (TM_1698 or TM_1255)  TM_1255        Q9X0Y2       True        aspC  ['2.6.1.1']  ['Transaminase A', 'AspAT', 'Aspartate aminotr...  MVSRRISEIPISKTMELDAKAKALIKKGEDVINLTAGEPDFPTPEP...        377  ['PF00155']  ['tma:TM1255', 'tmi:THEMA_08060']  ['NP_229060.1', 'NC_000853.1', 'YP_007977609.1...  ['GO:0005737; C:cytoplasm; IEA:UniProtKB-SubCe...            1  1O4S  X-RAY DIFFRACTION           1.9                 0.75  ['SO4', 'PLP']  ['A', 'B']  {'A': ['Q9X0Y2'], 'B': ['Q9X0Y2']}  [('A', ['2.6.1.1']), ('B', ['2.6.1.1'])]         26-JUN-03  10.1002/PROT.10646          NaN         NaN       NaN          NaN                      True                  True                 376                 0.997347      1.191711       1.909091       3.100802              True         1      1o4s.pdb               0     29640              0.224057       759   356.218947   \n",
       "\n",
       "   ssb_avg_res_depth  ssb_ca_depth  ssb_per_NP  ssb_per_P  ssb_per_pos  ssb_per_neg  ssb_per_irr  ssb_per_alpha  ssb_per_beta_bridge  ssb_per_ext_beta  ssb_per_310_helix  ssb_per_5_helix  ssb_per_hbond_turn  ssb_per_bent  ssb_per_S_NP  ssb_per_S_P  ssb_per_S_pos  ssb_per_S_neg  ssb_per_B_NP  ssb_per_B_P  ssb_per_B_pos  ssb_per_B_neg  ssb_per_S  ssb_per_B         f_clan                      f_pfam_name ssb_pfam ssb_pfam_source  \n",
       "0           4.467993      4.604561    0.503294   0.216074     0.146245     0.134387     0.225296       0.417655             0.006588          0.140975           0.034256                0            0.109354      0.065876      0.247694      0.14888        0.14361       0.129117      0.255599     0.067194       0.002635        0.00527   0.669302   0.330698  PLP_aminotran  Aminotransferase class I and II  PF00155   from official  \n",
       "\n",
       "[1 rows x 75 columns]"
      ]
     },
     "execution_count": 13,
     "metadata": {},
     "output_type": "execute_result"
    }
   ],
   "source": [
    "DF_TM=pd.read_csv('../../../GEM-PRO/server/TM/data_frames/DF_GEM_PRO_MASTER.csv',index_col=0)\n",
    "DF_TM.head(1)"
   ]
  },
  {
   "cell_type": "code",
   "execution_count": 15,
   "metadata": {
    "collapsed": false
   },
   "outputs": [],
   "source": [
    "DF_TM_Red = DF_TM[['m_reaction','m_gene','m_subsystem','m_metabolites','u_pdb','i_entry_name', 'ssb_best_file']].drop_duplicates()"
   ]
  },
  {
   "cell_type": "code",
   "execution_count": 16,
   "metadata": {
    "collapsed": false
   },
   "outputs": [
    {
     "data": {
      "text/html": [
       "<div style=\"max-height:1000px;max-width:1500px;overflow:auto;\">\n",
       "<table border=\"1\" class=\"dataframe\">\n",
       "  <thead>\n",
       "    <tr style=\"text-align: right;\">\n",
       "      <th></th>\n",
       "      <th>m_reaction</th>\n",
       "      <th>m_gene</th>\n",
       "      <th>m_subsystem</th>\n",
       "      <th>m_metabolites</th>\n",
       "      <th>u_pdb</th>\n",
       "      <th>i_entry_name</th>\n",
       "      <th>ssb_best_file</th>\n",
       "    </tr>\n",
       "  </thead>\n",
       "  <tbody>\n",
       "    <tr>\n",
       "      <th>0</th>\n",
       "      <td> 3SALATAi</td>\n",
       "      <td> TM_1255</td>\n",
       "      <td>  Cysteine Metabolism</td>\n",
       "      <td> ['3sala_c', 'h_c', 'glu_L_c', 'akg_c', '3snpyr...</td>\n",
       "      <td> 1O4S</td>\n",
       "      <td> NaN</td>\n",
       "      <td> 1o4s.pdb</td>\n",
       "    </tr>\n",
       "    <tr>\n",
       "      <th>4</th>\n",
       "      <td> 3SALATAi</td>\n",
       "      <td> TM_1698</td>\n",
       "      <td>  Cysteine Metabolism</td>\n",
       "      <td> ['3sala_c', 'h_c', 'glu_L_c', 'akg_c', '3snpyr...</td>\n",
       "      <td> 2GB3</td>\n",
       "      <td> NaN</td>\n",
       "      <td> 2gb3.pdb</td>\n",
       "    </tr>\n",
       "    <tr>\n",
       "      <th>7</th>\n",
       "      <td>    ASPTA</td>\n",
       "      <td> TM_1255</td>\n",
       "      <td> Glutamate Metabolism</td>\n",
       "      <td>          ['oaa_c', 'asp_L_c', 'glu_L_c', 'akg_c']</td>\n",
       "      <td> 1O4S</td>\n",
       "      <td> NaN</td>\n",
       "      <td> 1o4s.pdb</td>\n",
       "    </tr>\n",
       "  </tbody>\n",
       "</table>\n",
       "<p>3 rows × 7 columns</p>\n",
       "</div>"
      ],
      "text/plain": [
       "  m_reaction   m_gene           m_subsystem                                      m_metabolites u_pdb i_entry_name ssb_best_file\n",
       "0   3SALATAi  TM_1255   Cysteine Metabolism  ['3sala_c', 'h_c', 'glu_L_c', 'akg_c', '3snpyr...  1O4S          NaN      1o4s.pdb\n",
       "4   3SALATAi  TM_1698   Cysteine Metabolism  ['3sala_c', 'h_c', 'glu_L_c', 'akg_c', '3snpyr...  2GB3          NaN      2gb3.pdb\n",
       "7      ASPTA  TM_1255  Glutamate Metabolism           ['oaa_c', 'asp_L_c', 'glu_L_c', 'akg_c']  1O4S          NaN      1o4s.pdb\n",
       "\n",
       "[3 rows x 7 columns]"
      ]
     },
     "execution_count": 16,
     "metadata": {},
     "output_type": "execute_result"
    }
   ],
   "source": [
    "DF_TM_Red.head(3)"
   ]
  },
  {
   "cell_type": "code",
   "execution_count": 17,
   "metadata": {
    "collapsed": true
   },
   "outputs": [],
   "source": [
    "DF_TM_Red.to_csv('DF_mol_gene_pdb.to_csv')"
   ]
  },
  {
   "cell_type": "code",
   "execution_count": null,
   "metadata": {
    "collapsed": true
   },
   "outputs": [],
   "source": []
  }
 ],
 "metadata": {
  "kernelspec": {
   "display_name": "Python 2",
   "language": "python",
   "name": "python2"
  },
  "language_info": {
   "codemirror_mode": {
    "name": "ipython",
    "version": 2
   },
   "file_extension": ".py",
   "mimetype": "text/x-python",
   "name": "python",
   "nbconvert_exporter": "python",
   "pygments_lexer": "ipython2",
   "version": "2.7.6"
  }
 },
 "nbformat": 4,
 "nbformat_minor": 0
}
